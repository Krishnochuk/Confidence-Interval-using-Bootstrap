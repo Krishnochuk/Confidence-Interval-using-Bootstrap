{
 "cells": [
  {
   "cell_type": "code",
   "execution_count": 38,
   "metadata": {},
   "outputs": [
    {
     "data": {
      "image/png": "[encoded data removed]",
      "text/plain": [
       "<Figure size 432x288 with 1 Axes>"
      ]
     },
     "metadata": {
      "needs_background": "light"
     },
     "output_type": "display_data"
    },
    {
     "name": "stdout",
     "output_type": "stream",
     "text": [
      "(95.0, 160.0, 178.0)\n"
     ]
    }
   ],
   "source": [
    "import numpy as np\n",
    "from matplotlib import pyplot\n",
    "from sklearn.utils import resample\n",
    "from sklearn.metrics import accuracy_score\n",
    "\n",
    "x=np.array([180,162,158,172,168,150,171,183,165,176])\n",
    "\n",
    "n_sample=1000\n",
    "sample_size=8\n",
    "\n",
    "medians=[]\n",
    "for i in range(n_sample):\n",
    "    s=resample(x,n_samples=sample_size)\n",
    "    m=np.median(s)                  # same way can be used to calculate percentile,variance etc\n",
    "    medians.append(m)\n",
    "    \n",
    "pyplot.hist(medians)    \n",
    "pyplot.show()   \n",
    "\n",
    "#Confidence Interval\n",
    "alpha=0.95\n",
    "p=((1-alpha)/2)*100\n",
    "lower=np.percentile(medians,p)\n",
    "\n",
    "p=(alpha+((1-alpha)/2))*100\n",
    "upper=np.percentile(medians,p)\n",
    "print((alpha*100,lower,upper))"
   ]
  },
  {
   "cell_type": "code",
   "execution_count": null,
   "metadata": {},
   "outputs": [],
   "source": []
  },
  {
   "cell_type": "code",
   "execution_count": null,
   "metadata": {},
   "outputs": [],
   "source": []
  },
  {
   "cell_type": "code",
   "execution_count": null,
   "metadata": {},
   "outputs": [],
   "source": []
  }
 ],
 "metadata": {
  "kernelspec": {
   "display_name": "Python 3",
   "language": "python",
   "name": "python3"
  },
  "language_info": {
   "codemirror_mode": {
    "name": "ipython",
    "version": 3
   },
   "file_extension": ".py",
   "mimetype": "text/x-python",
   "name": "python",
   "nbconvert_exporter": "python",
   "pygments_lexer": "ipython3",
   "version": "3.7.3"
  }
 },
 "nbformat": 4,
 "nbformat_minor": 2
}
